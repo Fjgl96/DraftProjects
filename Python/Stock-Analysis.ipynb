{
 "cells": [
  {
   "attachments": {},
   "cell_type": "markdown",
   "metadata": {},
   "source": [
    "# Stock Analysis"
   ]
  },
  {
   "attachments": {},
   "cell_type": "markdown",
   "metadata": {},
   "source": [
    "### The following code will analyze a series of stock and perfomr a seires of basics analsysis that will try to find realtionship between them"
   ]
  },
  {
   "attachments": {},
   "cell_type": "markdown",
   "metadata": {},
   "source": []
  },
  {
   "cell_type": "code",
   "execution_count": 32,
   "metadata": {},
   "outputs": [
    {
     "ename": "ModuleNotFoundError",
     "evalue": "No module named 'talib'",
     "output_type": "error",
     "traceback": [
      "\u001b[0;31m---------------------------------------------------------------------------\u001b[0m",
      "\u001b[0;31mModuleNotFoundError\u001b[0m                       Traceback (most recent call last)",
      "\u001b[1;32m/Users/apple/Documents/FGConsulting/DraftProjects/Python/Stock-Analysis.ipynb Cell 4\u001b[0m in \u001b[0;36m<cell line: 8>\u001b[0;34m()\u001b[0m\n\u001b[1;32m      <a href='vscode-notebook-cell:/Users/apple/Documents/FGConsulting/DraftProjects/Python/Stock-Analysis.ipynb#W6sZmlsZQ%3D%3D?line=5'>6</a>\u001b[0m \u001b[39mimport\u001b[39;00m \u001b[39mpandas\u001b[39;00m \u001b[39mas\u001b[39;00m \u001b[39mpd\u001b[39;00m\n\u001b[1;32m      <a href='vscode-notebook-cell:/Users/apple/Documents/FGConsulting/DraftProjects/Python/Stock-Analysis.ipynb#W6sZmlsZQ%3D%3D?line=6'>7</a>\u001b[0m \u001b[39mimport\u001b[39;00m \u001b[39mmatplotlib\u001b[39;00m\u001b[39m.\u001b[39;00m\u001b[39mpyplot\u001b[39;00m \u001b[39mas\u001b[39;00m \u001b[39mplt\u001b[39;00m\n\u001b[0;32m----> <a href='vscode-notebook-cell:/Users/apple/Documents/FGConsulting/DraftProjects/Python/Stock-Analysis.ipynb#W6sZmlsZQ%3D%3D?line=7'>8</a>\u001b[0m \u001b[39mimport\u001b[39;00m \u001b[39mtalib\u001b[39;00m\n",
      "\u001b[0;31mModuleNotFoundError\u001b[0m: No module named 'talib'"
     ]
    }
   ],
   "source": [
    "import numpy as np\n",
    "import pandas as pd\n",
    "import requests\n",
    "from bs4 import BeautifulSoup\n",
    "import yfinance as yf\n",
    "import pandas as pd\n",
    "import matplotlib.pyplot as plt\n",
    "import talib"
   ]
  },
  {
   "cell_type": "code",
   "execution_count": 5,
   "metadata": {},
   "outputs": [],
   "source": [
    "url = 'https://en.wikipedia.org/wiki/List_of_S%26P_500_companies'"
   ]
  },
  {
   "cell_type": "code",
   "execution_count": 6,
   "metadata": {},
   "outputs": [],
   "source": [
    "response = requests.get(url)\n",
    "html_content = response.content"
   ]
  },
  {
   "cell_type": "code",
   "execution_count": 8,
   "metadata": {},
   "outputs": [],
   "source": [
    "soup = BeautifulSoup(html_content, 'html.parser')\n",
    "table = soup.find('table', {'class': 'wikitable sortable'})"
   ]
  },
  {
   "attachments": {},
   "cell_type": "markdown",
   "metadata": {},
   "source": [
    "In the following code i Add"
   ]
  },
  {
   "cell_type": "code",
   "execution_count": 17,
   "metadata": {},
   "outputs": [
    {
     "name": "stdout",
     "output_type": "stream",
     "text": [
      "[<td><a class=\"external text\" href=\"https://www.nyse.com/quote/XNYS:ZTS\" rel=\"nofollow\">ZTS</a>\n",
      "</td>, <td><a href=\"/wiki/Zoetis\" title=\"Zoetis\">Zoetis</a></td>, <td>Health Care</td>, <td>Pharmaceuticals</td>, <td><a class=\"mw-redirect\" href=\"/wiki/Parsippany,_New_Jersey\" title=\"Parsippany, New Jersey\">Parsippany, New Jersey</a></td>, <td>2013-06-21</td>, <td>0001555280</td>, <td>1952\n",
      "</td>]\n"
     ]
    }
   ],
   "source": [
    "symbols = []\n",
    "names = []\n",
    "gicsSectors = []\n",
    "gicsSubIndustries = []\n",
    "ciks = []\n",
    "rows = table.find_all('tr')[1:] \n",
    "for row in rows:\n",
    "    cells = row.find_all('td')\n",
    "    symbol = cells[0].text.strip()\n",
    "    name = cells[1].text.strip()\n",
    "    gicsSector = cells[2].text.strip()\n",
    "    gicsSubIndustry = cells[3].text.strip()\n",
    "    cik = cells[6].text.strip()\n",
    "    symbols.append(symbol)\n",
    "    names.append(name)\n",
    "    gicsSectors.append(gicsSector)\n",
    "    gicsSubIndustries.append(gicsSubIndustry)\n",
    "    ciks.append(cik)\n",
    "\n"
   ]
  },
  {
   "cell_type": "code",
   "execution_count": 21,
   "metadata": {},
   "outputs": [],
   "source": [
    "data = { 'Name':names,\n",
    "        'Symbol':symbols,\n",
    "        'GIC Sector':gicsSectors,\n",
    "        'GIC SubIndustry':gicsSubIndustries,\n",
    "        'CIK':ciks\n",
    "}\n",
    "\n",
    "data_SP500 = pd.DataFrame(data)"
   ]
  },
  {
   "cell_type": "code",
   "execution_count": 23,
   "metadata": {},
   "outputs": [
    {
     "data": {
      "text/html": [
       "<div>\n",
       "<style scoped>\n",
       "    .dataframe tbody tr th:only-of-type {\n",
       "        vertical-align: middle;\n",
       "    }\n",
       "\n",
       "    .dataframe tbody tr th {\n",
       "        vertical-align: top;\n",
       "    }\n",
       "\n",
       "    .dataframe thead th {\n",
       "        text-align: right;\n",
       "    }\n",
       "</style>\n",
       "<table border=\"1\" class=\"dataframe\">\n",
       "  <thead>\n",
       "    <tr style=\"text-align: right;\">\n",
       "      <th></th>\n",
       "      <th>Name</th>\n",
       "      <th>Symbol</th>\n",
       "      <th>GIC Sector</th>\n",
       "      <th>GIC SubIndustry</th>\n",
       "      <th>CIK</th>\n",
       "    </tr>\n",
       "  </thead>\n",
       "  <tbody>\n",
       "    <tr>\n",
       "      <th>370</th>\n",
       "      <td>PepsiCo</td>\n",
       "      <td>PEP</td>\n",
       "      <td>Consumer Staples</td>\n",
       "      <td>Soft Drinks &amp; Non-alcoholic Beverages</td>\n",
       "      <td>0000077476</td>\n",
       "    </tr>\n",
       "    <tr>\n",
       "      <th>426</th>\n",
       "      <td>Stanley Black &amp; Decker</td>\n",
       "      <td>SWK</td>\n",
       "      <td>Industrials</td>\n",
       "      <td>Industrial Machinery &amp; Supplies &amp; Components</td>\n",
       "      <td>0000093556</td>\n",
       "    </tr>\n",
       "    <tr>\n",
       "      <th>159</th>\n",
       "      <td>DTE Energy</td>\n",
       "      <td>DTE</td>\n",
       "      <td>Utilities</td>\n",
       "      <td>Multi-Utilities</td>\n",
       "      <td>0000936340</td>\n",
       "    </tr>\n",
       "    <tr>\n",
       "      <th>501</th>\n",
       "      <td>Zions Bancorporation</td>\n",
       "      <td>ZION</td>\n",
       "      <td>Financials</td>\n",
       "      <td>Regional Banks</td>\n",
       "      <td>0000109380</td>\n",
       "    </tr>\n",
       "    <tr>\n",
       "      <th>300</th>\n",
       "      <td>Marathon Petroleum</td>\n",
       "      <td>MPC</td>\n",
       "      <td>Energy</td>\n",
       "      <td>Oil &amp; Gas Refining &amp; Marketing</td>\n",
       "      <td>0001510295</td>\n",
       "    </tr>\n",
       "  </tbody>\n",
       "</table>\n",
       "</div>"
      ],
      "text/plain": [
       "                       Name Symbol        GIC Sector  \\\n",
       "370                 PepsiCo    PEP  Consumer Staples   \n",
       "426  Stanley Black & Decker    SWK       Industrials   \n",
       "159              DTE Energy    DTE         Utilities   \n",
       "501    Zions Bancorporation   ZION        Financials   \n",
       "300      Marathon Petroleum    MPC            Energy   \n",
       "\n",
       "                                  GIC SubIndustry         CIK  \n",
       "370         Soft Drinks & Non-alcoholic Beverages  0000077476  \n",
       "426  Industrial Machinery & Supplies & Components  0000093556  \n",
       "159                               Multi-Utilities  0000936340  \n",
       "501                                Regional Banks  0000109380  \n",
       "300                Oil & Gas Refining & Marketing  0001510295  "
      ]
     },
     "execution_count": 23,
     "metadata": {},
     "output_type": "execute_result"
    }
   ],
   "source": [
    "data_SP500.sample(5)"
   ]
  },
  {
   "cell_type": "code",
   "execution_count": 24,
   "metadata": {},
   "outputs": [],
   "source": [
    "# We took 10 Random Symbols to run an overall analysis"
   ]
  },
  {
   "cell_type": "code",
   "execution_count": 29,
   "metadata": {},
   "outputs": [],
   "source": [
    "sample10 = data_SP500['Symbol'].sample(10).to_list()"
   ]
  },
  {
   "cell_type": "code",
   "execution_count": 30,
   "metadata": {},
   "outputs": [
    {
     "data": {
      "text/plain": [
       "['CARR', 'ZION', 'MA', 'ETSY', 'LNC', 'LLY', 'AJG', 'ZBH', 'HAS', 'GOOG']"
      ]
     },
     "execution_count": 30,
     "metadata": {},
     "output_type": "execute_result"
    }
   ],
   "source": [
    "sample10"
   ]
  },
  {
   "cell_type": "code",
   "execution_count": 36,
   "metadata": {},
   "outputs": [
    {
     "data": {
      "image/png": "[encoded data removed]",
      "text/plain": [
       "<Figure size 432x288 with 1 Axes>"
      ]
     },
     "metadata": {
      "needs_background": "light"
     },
     "output_type": "display_data"
    }
   ],
   "source": [
    "data = pd.DataFrame()\n",
    "for symbol in sample10:\n",
    "    ticker = yf.Ticker(symbol)\n",
    "    data[symbol] = ticker.history(period='1d', start='2019-01-01', end='2022-12-30')['Close']\n",
    "\n",
    "# Calculate daily returns for each company\n",
    "returns = data.pct_change()\n",
    "\n",
    "# Plot the daily returns for each company\n",
    "plt.plot(returns)\n",
    "plt.legend(symbols)\n",
    "plt.title('Daily Returns for Multiple Companies')\n",
    "plt.xlabel('Date')\n",
    "plt.ylabel('Daily Return')\n",
    "plt.show()"
   ]
  },
  {
   "cell_type": "code",
   "execution_count": 37,
   "metadata": {},
   "outputs": [
    {
     "data": {
      "text/html": [
       "<div>\n",
       "<style scoped>\n",
       "    .dataframe tbody tr th:only-of-type {\n",
       "        vertical-align: middle;\n",
       "    }\n",
       "\n",
       "    .dataframe tbody tr th {\n",
       "        vertical-align: top;\n",
       "    }\n",
       "\n",
       "    .dataframe thead th {\n",
       "        text-align: right;\n",
       "    }\n",
       "</style>\n",
       "<table border=\"1\" class=\"dataframe\">\n",
       "  <thead>\n",
       "    <tr style=\"text-align: right;\">\n",
       "      <th></th>\n",
       "      <th>CARR</th>\n",
       "      <th>ZION</th>\n",
       "      <th>MA</th>\n",
       "      <th>ETSY</th>\n",
       "      <th>LNC</th>\n",
       "      <th>LLY</th>\n",
       "      <th>AJG</th>\n",
       "      <th>ZBH</th>\n",
       "      <th>HAS</th>\n",
       "      <th>GOOG</th>\n",
       "    </tr>\n",
       "    <tr>\n",
       "      <th>Date</th>\n",
       "      <th></th>\n",
       "      <th></th>\n",
       "      <th></th>\n",
       "      <th></th>\n",
       "      <th></th>\n",
       "      <th></th>\n",
       "      <th></th>\n",
       "      <th></th>\n",
       "      <th></th>\n",
       "      <th></th>\n",
       "    </tr>\n",
       "  </thead>\n",
       "  <tbody>\n",
       "    <tr>\n",
       "      <th>2020-03-19</th>\n",
       "      <td>NaN</td>\n",
       "      <td>NaN</td>\n",
       "      <td>NaN</td>\n",
       "      <td>NaN</td>\n",
       "      <td>NaN</td>\n",
       "      <td>NaN</td>\n",
       "      <td>NaN</td>\n",
       "      <td>NaN</td>\n",
       "      <td>NaN</td>\n",
       "      <td>NaN</td>\n",
       "    </tr>\n",
       "    <tr>\n",
       "      <th>2020-03-20</th>\n",
       "      <td>0.062500</td>\n",
       "      <td>-0.061284</td>\n",
       "      <td>-0.069250</td>\n",
       "      <td>-0.085690</td>\n",
       "      <td>-0.112383</td>\n",
       "      <td>-0.080322</td>\n",
       "      <td>0.044201</td>\n",
       "      <td>-0.035450</td>\n",
       "      <td>-0.024953</td>\n",
       "      <td>-0.038528</td>\n",
       "    </tr>\n",
       "    <tr>\n",
       "      <th>2020-03-23</th>\n",
       "      <td>-0.094902</td>\n",
       "      <td>-0.058640</td>\n",
       "      <td>-0.038407</td>\n",
       "      <td>0.042285</td>\n",
       "      <td>0.016999</td>\n",
       "      <td>-0.027369</td>\n",
       "      <td>-0.046661</td>\n",
       "      <td>-0.060130</td>\n",
       "      <td>0.124919</td>\n",
       "      <td>-0.014641</td>\n",
       "    </tr>\n",
       "    <tr>\n",
       "      <th>2020-03-24</th>\n",
       "      <td>0.013865</td>\n",
       "      <td>0.045681</td>\n",
       "      <td>0.166109</td>\n",
       "      <td>0.154405</td>\n",
       "      <td>0.317003</td>\n",
       "      <td>0.032255</td>\n",
       "      <td>0.132327</td>\n",
       "      <td>0.155798</td>\n",
       "      <td>0.216696</td>\n",
       "      <td>0.073669</td>\n",
       "    </tr>\n",
       "    <tr>\n",
       "      <th>2020-03-25</th>\n",
       "      <td>0.149573</td>\n",
       "      <td>0.026608</td>\n",
       "      <td>0.081875</td>\n",
       "      <td>0.082874</td>\n",
       "      <td>0.098031</td>\n",
       "      <td>-0.007730</td>\n",
       "      <td>-0.000777</td>\n",
       "      <td>0.036724</td>\n",
       "      <td>0.058311</td>\n",
       "      <td>-0.028181</td>\n",
       "    </tr>\n",
       "    <tr>\n",
       "      <th>...</th>\n",
       "      <td>...</td>\n",
       "      <td>...</td>\n",
       "      <td>...</td>\n",
       "      <td>...</td>\n",
       "      <td>...</td>\n",
       "      <td>...</td>\n",
       "      <td>...</td>\n",
       "      <td>...</td>\n",
       "      <td>...</td>\n",
       "      <td>...</td>\n",
       "    </tr>\n",
       "    <tr>\n",
       "      <th>2022-12-22</th>\n",
       "      <td>-0.009741</td>\n",
       "      <td>0.014925</td>\n",
       "      <td>-0.012063</td>\n",
       "      <td>-0.051962</td>\n",
       "      <td>-0.023440</td>\n",
       "      <td>-0.007337</td>\n",
       "      <td>-0.007653</td>\n",
       "      <td>-0.002282</td>\n",
       "      <td>0.000000</td>\n",
       "      <td>-0.022050</td>\n",
       "    </tr>\n",
       "    <tr>\n",
       "      <th>2022-12-23</th>\n",
       "      <td>0.002639</td>\n",
       "      <td>0.003521</td>\n",
       "      <td>0.006090</td>\n",
       "      <td>-0.003219</td>\n",
       "      <td>0.018594</td>\n",
       "      <td>0.007090</td>\n",
       "      <td>0.002021</td>\n",
       "      <td>0.001106</td>\n",
       "      <td>0.008839</td>\n",
       "      <td>0.017562</td>\n",
       "    </tr>\n",
       "    <tr>\n",
       "      <th>2022-12-27</th>\n",
       "      <td>0.001914</td>\n",
       "      <td>0.008050</td>\n",
       "      <td>0.007451</td>\n",
       "      <td>-0.044115</td>\n",
       "      <td>-0.011284</td>\n",
       "      <td>-0.008209</td>\n",
       "      <td>0.004618</td>\n",
       "      <td>0.004657</td>\n",
       "      <td>0.010651</td>\n",
       "      <td>-0.020933</td>\n",
       "    </tr>\n",
       "    <tr>\n",
       "      <th>2022-12-28</th>\n",
       "      <td>-0.021734</td>\n",
       "      <td>-0.017813</td>\n",
       "      <td>-0.012162</td>\n",
       "      <td>-0.007747</td>\n",
       "      <td>-0.008728</td>\n",
       "      <td>0.000932</td>\n",
       "      <td>-0.007027</td>\n",
       "      <td>-0.010135</td>\n",
       "      <td>-0.010369</td>\n",
       "      <td>-0.016718</td>\n",
       "    </tr>\n",
       "    <tr>\n",
       "      <th>2022-12-29</th>\n",
       "      <td>0.021729</td>\n",
       "      <td>0.023139</td>\n",
       "      <td>0.018307</td>\n",
       "      <td>0.018937</td>\n",
       "      <td>0.037927</td>\n",
       "      <td>0.004929</td>\n",
       "      <td>0.011812</td>\n",
       "      <td>0.014604</td>\n",
       "      <td>0.047578</td>\n",
       "      <td>0.028799</td>\n",
       "    </tr>\n",
       "  </tbody>\n",
       "</table>\n",
       "<p>702 rows × 10 columns</p>\n",
       "</div>"
      ],
      "text/plain": [
       "                CARR      ZION        MA      ETSY       LNC       LLY  \\\n",
       "Date                                                                     \n",
       "2020-03-19       NaN       NaN       NaN       NaN       NaN       NaN   \n",
       "2020-03-20  0.062500 -0.061284 -0.069250 -0.085690 -0.112383 -0.080322   \n",
       "2020-03-23 -0.094902 -0.058640 -0.038407  0.042285  0.016999 -0.027369   \n",
       "2020-03-24  0.013865  0.045681  0.166109  0.154405  0.317003  0.032255   \n",
       "2020-03-25  0.149573  0.026608  0.081875  0.082874  0.098031 -0.007730   \n",
       "...              ...       ...       ...       ...       ...       ...   \n",
       "2022-12-22 -0.009741  0.014925 -0.012063 -0.051962 -0.023440 -0.007337   \n",
       "2022-12-23  0.002639  0.003521  0.006090 -0.003219  0.018594  0.007090   \n",
       "2022-12-27  0.001914  0.008050  0.007451 -0.044115 -0.011284 -0.008209   \n",
       "2022-12-28 -0.021734 -0.017813 -0.012162 -0.007747 -0.008728  0.000932   \n",
       "2022-12-29  0.021729  0.023139  0.018307  0.018937  0.037927  0.004929   \n",
       "\n",
       "                 AJG       ZBH       HAS      GOOG  \n",
       "Date                                                \n",
       "2020-03-19       NaN       NaN       NaN       NaN  \n",
       "2020-03-20  0.044201 -0.035450 -0.024953 -0.038528  \n",
       "2020-03-23 -0.046661 -0.060130  0.124919 -0.014641  \n",
       "2020-03-24  0.132327  0.155798  0.216696  0.073669  \n",
       "2020-03-25 -0.000777  0.036724  0.058311 -0.028181  \n",
       "...              ...       ...       ...       ...  \n",
       "2022-12-22 -0.007653 -0.002282  0.000000 -0.022050  \n",
       "2022-12-23  0.002021  0.001106  0.008839  0.017562  \n",
       "2022-12-27  0.004618  0.004657  0.010651 -0.020933  \n",
       "2022-12-28 -0.007027 -0.010135 -0.010369 -0.016718  \n",
       "2022-12-29  0.011812  0.014604  0.047578  0.028799  \n",
       "\n",
       "[702 rows x 10 columns]"
      ]
     },
     "execution_count": 37,
     "metadata": {},
     "output_type": "execute_result"
    }
   ],
   "source": [
    "returns[]"
   ]
  },
  {
   "cell_type": "code",
   "execution_count": 40,
   "metadata": {},
   "outputs": [],
   "source": [
    "def moving_average(data,stock ,avg=5):\n",
    "    moving_avg = data[stock].rolling(window=avg).mean()\n",
    "    return moving_avg\n",
    "\n"
   ]
  },
  {
   "cell_type": "code",
   "execution_count": 44,
   "metadata": {},
   "outputs": [],
   "source": [
    "\n",
    "test_1 = moving_average(returns,\"GOOG\",20)\n",
    "test_2 = moving_average(returns, \"ETSY\",20)\n",
    "\n",
    "test_3 = moving_average(returns,\"GOOG\",10)\n",
    "test_4 = moving_average(returns, \"ETSY\",10)\n",
    "\n",
    "test_5 = moving_average(returns,\"GOOG\",20)\n",
    "test_6 = moving_average(returns, \"ETSY\",20)"
   ]
  },
  {
   "cell_type": "code",
   "execution_count": 48,
   "metadata": {},
   "outputs": [
    {
     "data": {
      "text/plain": [
       "<matplotlib.legend.Legend at 0x7fb603e19760>"
      ]
     },
     "execution_count": 48,
     "metadata": {},
     "output_type": "execute_result"
    },
    {
     "data": {
      "image/png": "[encoded data removed]",
      "text/plain": [
       "<Figure size 432x288 with 1 Axes>"
      ]
     },
     "metadata": {
      "needs_background": "light"
     },
     "output_type": "display_data"
    }
   ],
   "source": [
    "plt.plot(returns[\"GOOG\"], label= \"Stock Value\")\n",
    "plt.plot(test_5, label = \"Moving Average 10 days\")\n",
    "plt.plot(test_6, label = \"Moving Average 20 days\")\n",
    "plt.xticks(rotation=90)\n",
    "\n",
    "legend1 = plt.legend(loc='upper left')\n",
    "plt.gca().add_artist(legend1)"
   ]
  },
  {
   "cell_type": "code",
   "execution_count": null,
   "metadata": {},
   "outputs": [],
   "source": []
  },
  {
   "cell_type": "markdown",
   "metadata": {},
   "source": []
  }
 ],
 "metadata": {
  "kernelspec": {
   "display_name": "base",
   "language": "python",
   "name": "python3"
  },
  "language_info": {
   "codemirror_mode": {
    "name": "ipython",
    "version": 3
   },
   "file_extension": ".py",
   "mimetype": "text/x-python",
   "name": "python",
   "nbconvert_exporter": "python",
   "pygments_lexer": "ipython3",
   "version": "3.9.12"
  },
  "orig_nbformat": 4
 },
 "nbformat": 4,
 "nbformat_minor": 2
}
